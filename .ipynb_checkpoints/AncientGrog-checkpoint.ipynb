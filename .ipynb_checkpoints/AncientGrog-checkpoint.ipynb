{
 "cells": [
  {
   "cell_type": "markdown",
   "metadata": {
    "pycharm": {
     "name": "#%% md\n"
    }
   },
   "source": [
    "AES Cryptography"
   ]
  },
  {
   "cell_type": "code",
   "execution_count": 11,
   "metadata": {
    "pycharm": {
     "is_executing": true,
     "name": "#%%\n"
    }
   },
   "outputs": [],
   "source": [
    "# Imports\n",
    "import os\n",
    "import re\n",
    "import base64\n",
    "import hashlib\n",
    "from cryptography.hazmat.primitives.ciphers import Cipher, algorithms, modes\n",
    "from cryptography.hazmat.primitives import padding\n",
    "from cryptography.hazmat.primitives.kdf.pbkdf2 import PBKDF2HMAC\n",
    "from cryptography.hazmat.primitives import hashes\n",
    "from cryptography.hazmat.backends import default_backend"
   ]
  },
  {
   "cell_type": "code",
   "execution_count": 12,
   "metadata": {},
   "outputs": [],
   "source": [
    "def derive_key(password, salt, iterations=100000, length=32):\n",
    "    kdf = PBKDF2HMAC(\n",
    "        algorithm=hashes.SHA256(),\n",
    "        length=length,  # AES-256\n",
    "        salt=salt,\n",
    "        iterations=iterations,\n",
    "        backend=default_backend()\n",
    "    )\n",
    "    key = kdf.derive(password)\n",
    "    return key"
   ]
  },
  {
   "cell_type": "code",
   "execution_count": 17,
   "metadata": {
    "pycharm": {
     "name": "#%%\n"
    }
   },
   "outputs": [],
   "source": [
    "class AESCipher:\n",
    "    \"\"\"\n",
    "        An AESCipher object contains a key and a block_size. An AESCipher object also contains two methods for encryption and decryption that can be\n",
    "        called from the object.\n",
    "        \n",
    "        encrypt: Encrypts the plaintext data of a file and encrypts the file in place.\n",
    "            Parameters:\n",
    "            - plaintext (string): Contains the plaintext data from the file that the user wants to encrypt.\n",
    "            - file_name (string): Contains the data path to the file that the user wants to encrypt.\n",
    "            \n",
    "        decrypt: Decrypts the ciphertext data of a file and decrypts the file in place.\n",
    "            Parameters:\n",
    "            - ciphertext (string): Contains the ciphertext data from the file that the user wants to decrypt.\n",
    "            - file_name (string): Contains the data path to the file that the user wants to decrypt.\n",
    "            \n",
    "    \"\"\"\n",
    "    def __init__(self, key, is_binary):\n",
    "        self.key = key  # Key should be bytes\n",
    "        self.is_binary = is_binary  # True for binary files, False for text files\n",
    "        self.block_size = algorithms.AES.block_size // 8  # Block size in bytes\n",
    "\n",
    "    def encrypt(self, plaintext_data, file_name):\n",
    "        # Generate a random IV\n",
    "        iv = os.urandom(self.block_size)\n",
    "\n",
    "        # Define the cipher using the key\n",
    "        cipher = Cipher(algorithms.AES(self.key), modes.CBC(iv))\n",
    "        encryptor = cipher.encryptor()\n",
    "\n",
    "        # Pad the plaintext to ensure it's a multiple of the block size\n",
    "        padder = padding.PKCS7(algorithms.AES.block_size).padder()\n",
    "        padded_data = padder.update(plaintext_data) + padder.finalize()\n",
    "\n",
    "        # Encrypt the padded data\n",
    "        ciphertext = encryptor.update(padded_data) + encryptor.finalize()\n",
    "\n",
    "        # Write the encrypted data to the file\n",
    "        mode = 'wb' if self.is_binary else 'w'\n",
    "        with open(file_name, mode) as file:\n",
    "            if self.is_binary:\n",
    "                file.write(ciphertext)\n",
    "            else:\n",
    "                # For text files, base64-encode the ciphertext for safe storage\n",
    "                ciphertext_b64 = base64.b64encode(ciphertext).decode('utf-8')\n",
    "                file.write(ciphertext_b64)\n",
    "\n",
    "        # Write the IV to a separate file\n",
    "        with open(file_name + '.iv', 'wb') as iv_file:\n",
    "            iv_file.write(iv)\n",
    "\n",
    "        print(\"File encrypted\")\n",
    "\n",
    "    def decrypt(self, file_name):\n",
    "        # Read the IV from the separate file\n",
    "        with open(file_name + '.iv', 'rb') as iv_file:\n",
    "            iv = iv_file.read()\n",
    "\n",
    "        # Read the ciphertext from the file\n",
    "        mode = 'rb' if self.is_binary else 'r'\n",
    "        with open(file_name, mode) as file:\n",
    "            if self.is_binary:\n",
    "                ciphertext = file.read()\n",
    "            else:\n",
    "                ciphertext_b64 = file.read()\n",
    "                ciphertext = base64.b64decode(ciphertext_b64)\n",
    "\n",
    "        # Define the cipher using the key and the IV\n",
    "        cipher = Cipher(algorithms.AES(self.key), modes.CBC(iv))\n",
    "        decryptor = cipher.decryptor()\n",
    "\n",
    "        # Decrypt the ciphertext\n",
    "        decrypted_padded_data = decryptor.update(ciphertext) + decryptor.finalize()\n",
    "\n",
    "        # Unpad the decrypted data to get the original plaintext\n",
    "        unpadder = padding.PKCS7(algorithms.AES.block_size).unpadder()\n",
    "        plaintext_data = unpadder.update(decrypted_padded_data) + unpadder.finalize()\n",
    "\n",
    "        # Write the decrypted plaintext back to the file\n",
    "        mode = 'wb' if self.is_binary else 'w'\n",
    "        with open(file_name, mode) as file:\n",
    "            if self.is_binary:\n",
    "                file.write(plaintext_data)\n",
    "            else:\n",
    "                file.write(plaintext_data.decode('utf-8'))\n",
    "\n",
    "        print(\"File decrypted\")"
   ]
  },
  {
   "cell_type": "code",
   "execution_count": 18,
   "metadata": {
    "pycharm": {
     "name": "#%%\n"
    }
   },
   "outputs": [],
   "source": [
    "def obfuscate_script(file_name, is_binary):\n",
    "    # Open the file and read in the contents\n",
    "    mode = 'rb' if is_binary else 'r'\n",
    "    with open(file_name, mode) as file:\n",
    "        file_content = file.read()\n",
    "\n",
    "    # Obfuscate the data using base64 encoding\n",
    "    if is_binary:\n",
    "        obfuscated_content = base64.b64encode(file_content)\n",
    "        write_mode = 'wb'\n",
    "    else:\n",
    "        obfuscated_content = base64.b64encode(file_content.encode('utf-8')).decode('utf-8')\n",
    "        write_mode = 'w'\n",
    "\n",
    "    # Write the obfuscated data back to the file\n",
    "    with open(file_name, write_mode) as file:\n",
    "        file.write(obfuscated_content)\n",
    "\n",
    "    print(\"File obfuscated\")"
   ]
  },
  {
   "cell_type": "code",
   "execution_count": 19,
   "metadata": {
    "pycharm": {
     "name": "#%%\n"
    }
   },
   "outputs": [],
   "source": [
    "def deobfuscate_script(file_name, is_binary):\n",
    "    # Open the file and read in the contents\n",
    "    mode = 'rb' if is_binary else 'r'\n",
    "    with open(file_name, mode) as file:\n",
    "        obfuscated_content = file.read()\n",
    "\n",
    "    # Deobfuscate the data using base64 decoding\n",
    "    try:\n",
    "        if is_binary:\n",
    "            file_content = base64.b64decode(obfuscated_content)\n",
    "            write_mode = 'wb'\n",
    "        else:\n",
    "            file_content = base64.b64decode(obfuscated_content).decode('utf-8')\n",
    "            write_mode = 'w'\n",
    "    except Exception as e:\n",
    "        print(\"Error during deobfuscation:\", e)\n",
    "        return\n",
    "\n",
    "    # Write the deobfuscated data back to the file\n",
    "    with open(file_name, write_mode) as file:\n",
    "        file.write(file_content)\n",
    "\n",
    "    print(\"File deobfuscated\")\n"
   ]
  },
  {
   "cell_type": "code",
   "execution_count": null,
   "metadata": {
    "pycharm": {
     "name": "#%%\n"
    }
   },
   "outputs": [],
   "source": [
    "def main():\n",
    "    # Enter filename\n",
    "    file_name = input(\"Enter the filename (with extension): \").strip()\n",
    "\n",
    "    # Determine if the file is binary or text\n",
    "    file_type = input(\"Is this a binary file (e.g., Word document)? (y/n): \").strip().lower()\n",
    "    is_binary = file_type == 'y'\n",
    "\n",
    "    # Prompt the user for the key\n",
    "    user_key_input = input(\"Please enter the key: \").strip()\n",
    "    user_key_bytes = user_key_input.encode('utf-8')\n",
    "\n",
    "    # Hash the user's input key\n",
    "    user_key_hash = hashlib.sha256(user_key_bytes).hexdigest()\n",
    "\n",
    "    # Stored hash of the correct key\n",
    "    stored_key_hash = 'ac5efc53c483be20c2e765066a3d83434df39b03961a1a95a1c0c18ef58c1380'\n",
    "\n",
    "    # Compare the hashes\n",
    "    if user_key_hash != stored_key_hash:\n",
    "        print(\"Incorrect key. Access denied.\")\n",
    "        return\n",
    "\n",
    "    # Key derivation parameters\n",
    "    salt = b'some_salt_value'  # Use a secure random salt in practice\n",
    "    iterations = 100000\n",
    "\n",
    "    # Derive the key from the user's input\n",
    "    key = derive_key(user_key_bytes, salt, iterations)\n",
    "\n",
    "    # Choose action based on user input\n",
    "    print(\"\\nPlease choose from one of the following:\")\n",
    "    print(\"1: Encrypt and Obfuscate\")\n",
    "    print(\"2: Encrypt Only\")\n",
    "    print(\"3: Obfuscate Only\")\n",
    "    print(\"4: Decrypt and Deobfuscate\")\n",
    "    print(\"5: Decrypt Only\")\n",
    "    print(\"6: Deobfuscate Only\")\n",
    "    action = input().strip()\n",
    "\n",
    "    cipher = AESCipher(key, is_binary)\n",
    "\n",
    "    if action == '1':\n",
    "        # Encrypt and Obfuscate\n",
    "        # Read the file contents to encrypt\n",
    "        mode = 'rb' if is_binary else 'r'\n",
    "        with open(file_name, mode) as file:\n",
    "            file_contents = file.read()\n",
    "            if not is_binary:\n",
    "                file_contents = file_contents.encode('utf-8')\n",
    "\n",
    "        # Encrypt the file\n",
    "        cipher.encrypt(file_contents, file_name)\n",
    "\n",
    "        # Obfuscate the file\n",
    "        obfuscate_script(file_name, is_binary)\n",
    "\n",
    "    elif action == '2':\n",
    "        # Encrypt Only\n",
    "        mode = 'rb' if is_binary else 'r'\n",
    "        with open(file_name, mode) as file:\n",
    "            file_contents = file.read()\n",
    "            if not is_binary:\n",
    "                file_contents = file_contents.encode('utf-8')\n",
    "        cipher.encrypt(file_contents, file_name)\n",
    "\n",
    "    elif action == '3':\n",
    "        # Obfuscate Only\n",
    "        obfuscate_script(file_name, is_binary)\n",
    "\n",
    "    elif action == '4':\n",
    "        # Decrypt and Deobfuscate\n",
    "        # Deobfuscate the file first\n",
    "        deobfuscate_script(file_name, is_binary)\n",
    "        # Then decrypt the file\n",
    "        cipher.decrypt(file_name)\n",
    "\n",
    "    elif action == '5':\n",
    "        # Decrypt Only\n",
    "        cipher.decrypt(file_name)\n",
    "\n",
    "    elif action == '6':\n",
    "        # Deobfuscate Only\n",
    "        deobfuscate_script(file_name, is_binary)\n",
    "\n",
    "    else:\n",
    "        print(\"Invalid action. Please enter a number between 1 and 6.\")\n",
    "\n",
    "if __name__ == \"__main__\":\n",
    "    main()"
   ]
  },
  {
   "cell_type": "code",
   "execution_count": null,
   "metadata": {
    "pycharm": {
     "name": "#%%\n"
    }
   },
   "outputs": [],
   "source": []
  },
  {
   "cell_type": "code",
   "execution_count": null,
   "metadata": {
    "pycharm": {
     "name": "#%%\n"
    }
   },
   "outputs": [],
   "source": []
  }
 ],
 "metadata": {
  "kernelspec": {
   "display_name": "Python 3 (ipykernel)",
   "language": "python",
   "name": "python3"
  },
  "language_info": {
   "codemirror_mode": {
    "name": "ipython",
    "version": 3
   },
   "file_extension": ".py",
   "mimetype": "text/x-python",
   "name": "python",
   "nbconvert_exporter": "python",
   "pygments_lexer": "ipython3",
   "version": "3.9.18"
  }
 },
 "nbformat": 4,
 "nbformat_minor": 2
}
